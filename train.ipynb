{
 "cells": [
  {
   "cell_type": "code",
   "execution_count": 1,
   "metadata": {},
   "outputs": [
    {
     "name": "stderr",
     "output_type": "stream",
     "text": [
      "Some weights of CustomBertForSequenceClassification were not initialized from the model checkpoint at bert-base-uncased and are newly initialized: ['classifier.bias', 'classifier.weight']\n",
      "You should probably TRAIN this model on a down-stream task to be able to use it for predictions and inference.\n",
      "c:\\Users\\USER\\anaconda3\\envs\\ryanbert\\lib\\site-packages\\transformers\\optimization.py:588: FutureWarning: This implementation of AdamW is deprecated and will be removed in a future version. Use the PyTorch implementation torch.optim.AdamW instead, or set `no_deprecation_warning=True` to disable this warning\n",
      "  warnings.warn(\n",
      "train epoch:1/20:   0%|          | 0/26 [00:00<?, ?it/s]c:\\Users\\USER\\anaconda3\\envs\\ryanbert\\lib\\site-packages\\transformers\\models\\bert\\modeling_bert.py:435: UserWarning: 1Torch was not compiled with flash attention. (Triggered internally at C:\\actions-runner\\_work\\pytorch\\pytorch\\builder\\windows\\pytorch\\aten\\src\\ATen\\native\\transformers\\cuda\\sdp_utils.cpp:455.)\n",
      "  attn_output = torch.nn.functional.scaled_dot_product_attention(\n",
      "train epoch:1/20: 100%|██████████| 26/26 [00:11<00:00,  2.27it/s]\n",
      "eval: 100%|██████████| 3/3 [00:00<00:00,  7.13it/s]\n"
     ]
    },
    {
     "name": "stdout",
     "output_type": "stream",
     "text": [
      "epoch 1, loss 0.0183, train acc 0.704, test acc 0.744, time: 11.885\n",
      "              precision    recall  f1-score   support\n",
      "\n",
      "           0       0.71      0.98      0.82        54\n",
      "           1       0.93      0.39      0.55        36\n",
      "\n",
      "    accuracy                           0.74        90\n",
      "   macro avg       0.82      0.69      0.69        90\n",
      "weighted avg       0.80      0.74      0.71        90\n",
      "\n"
     ]
    },
    {
     "name": "stderr",
     "output_type": "stream",
     "text": [
      "train epoch:2/20: 100%|██████████| 26/26 [00:11<00:00,  2.28it/s]\n",
      "eval: 100%|██████████| 3/3 [00:00<00:00,  6.88it/s]\n"
     ]
    },
    {
     "name": "stdout",
     "output_type": "stream",
     "text": [
      "epoch 2, loss 0.0128, train acc 0.825, test acc 0.789, time: 11.864\n",
      "              precision    recall  f1-score   support\n",
      "\n",
      "           0       0.75      0.96      0.85        54\n",
      "           1       0.90      0.53      0.67        36\n",
      "\n",
      "    accuracy                           0.79        90\n",
      "   macro avg       0.83      0.75      0.76        90\n",
      "weighted avg       0.81      0.79      0.77        90\n",
      "\n"
     ]
    },
    {
     "name": "stderr",
     "output_type": "stream",
     "text": [
      "train epoch:3/20: 100%|██████████| 26/26 [00:11<00:00,  2.26it/s]\n",
      "eval: 100%|██████████| 3/3 [00:00<00:00,  7.00it/s]\n"
     ]
    },
    {
     "name": "stdout",
     "output_type": "stream",
     "text": [
      "epoch 3, loss 0.0069, train acc 0.930, test acc 0.911, time: 11.925\n",
      "              precision    recall  f1-score   support\n",
      "\n",
      "           0       0.90      0.96      0.93        54\n",
      "           1       0.94      0.83      0.88        36\n",
      "\n",
      "    accuracy                           0.91        90\n",
      "   macro avg       0.92      0.90      0.91        90\n",
      "weighted avg       0.91      0.91      0.91        90\n",
      "\n"
     ]
    },
    {
     "name": "stderr",
     "output_type": "stream",
     "text": [
      "train epoch:4/20: 100%|██████████| 26/26 [00:11<00:00,  2.25it/s]\n",
      "eval: 100%|██████████| 3/3 [00:00<00:00,  6.89it/s]\n"
     ]
    },
    {
     "name": "stdout",
     "output_type": "stream",
     "text": [
      "epoch 4, loss 0.0028, train acc 0.974, test acc 0.911, time: 12.014\n",
      "              precision    recall  f1-score   support\n",
      "\n",
      "           0       0.88      0.98      0.93        54\n",
      "           1       0.97      0.81      0.88        36\n",
      "\n",
      "    accuracy                           0.91        90\n",
      "   macro avg       0.93      0.89      0.90        90\n",
      "weighted avg       0.92      0.91      0.91        90\n",
      "\n"
     ]
    },
    {
     "name": "stderr",
     "output_type": "stream",
     "text": [
      "train epoch:5/20: 100%|██████████| 26/26 [00:11<00:00,  2.25it/s]\n",
      "eval: 100%|██████████| 3/3 [00:00<00:00,  7.01it/s]\n"
     ]
    },
    {
     "name": "stdout",
     "output_type": "stream",
     "text": [
      "epoch 5, loss 0.0019, train acc 0.986, test acc 0.911, time: 12.004\n",
      "              precision    recall  f1-score   support\n",
      "\n",
      "           0       0.90      0.96      0.93        54\n",
      "           1       0.94      0.83      0.88        36\n",
      "\n",
      "    accuracy                           0.91        90\n",
      "   macro avg       0.92      0.90      0.91        90\n",
      "weighted avg       0.91      0.91      0.91        90\n",
      "\n"
     ]
    },
    {
     "name": "stderr",
     "output_type": "stream",
     "text": [
      "train epoch:6/20: 100%|██████████| 26/26 [00:11<00:00,  2.25it/s]\n",
      "eval: 100%|██████████| 3/3 [00:00<00:00,  7.00it/s]\n"
     ]
    },
    {
     "name": "stdout",
     "output_type": "stream",
     "text": [
      "epoch 6, loss 0.0007, train acc 0.994, test acc 0.922, time: 12.006\n",
      "              precision    recall  f1-score   support\n",
      "\n",
      "           0       0.91      0.96      0.94        54\n",
      "           1       0.94      0.86      0.90        36\n",
      "\n",
      "    accuracy                           0.92        90\n",
      "   macro avg       0.93      0.91      0.92        90\n",
      "weighted avg       0.92      0.92      0.92        90\n",
      "\n"
     ]
    },
    {
     "name": "stderr",
     "output_type": "stream",
     "text": [
      "train epoch:7/20: 100%|██████████| 26/26 [00:11<00:00,  2.23it/s]\n",
      "eval: 100%|██████████| 3/3 [00:00<00:00,  7.04it/s]\n"
     ]
    },
    {
     "name": "stdout",
     "output_type": "stream",
     "text": [
      "epoch 7, loss 0.0004, train acc 0.998, test acc 0.922, time: 12.075\n",
      "              precision    recall  f1-score   support\n",
      "\n",
      "           0       0.93      0.94      0.94        54\n",
      "           1       0.91      0.89      0.90        36\n",
      "\n",
      "    accuracy                           0.92        90\n",
      "   macro avg       0.92      0.92      0.92        90\n",
      "weighted avg       0.92      0.92      0.92        90\n",
      "\n"
     ]
    },
    {
     "name": "stderr",
     "output_type": "stream",
     "text": [
      "train epoch:8/20: 100%|██████████| 26/26 [00:11<00:00,  2.21it/s]\n",
      "eval: 100%|██████████| 3/3 [00:00<00:00,  7.01it/s]\n"
     ]
    },
    {
     "name": "stdout",
     "output_type": "stream",
     "text": [
      "epoch 8, loss 0.0011, train acc 0.991, test acc 0.900, time: 12.216\n",
      "              precision    recall  f1-score   support\n",
      "\n",
      "           0       0.88      0.96      0.92        54\n",
      "           1       0.94      0.81      0.87        36\n",
      "\n",
      "    accuracy                           0.90        90\n",
      "   macro avg       0.91      0.88      0.89        90\n",
      "weighted avg       0.90      0.90      0.90        90\n",
      "\n"
     ]
    },
    {
     "name": "stderr",
     "output_type": "stream",
     "text": [
      "train epoch:9/20: 100%|██████████| 26/26 [00:11<00:00,  2.22it/s]\n",
      "eval: 100%|██████████| 3/3 [00:00<00:00,  7.06it/s]\n"
     ]
    },
    {
     "name": "stdout",
     "output_type": "stream",
     "text": [
      "epoch 9, loss 0.0005, train acc 0.995, test acc 0.922, time: 12.142\n",
      "              precision    recall  f1-score   support\n",
      "\n",
      "           0       0.91      0.96      0.94        54\n",
      "           1       0.94      0.86      0.90        36\n",
      "\n",
      "    accuracy                           0.92        90\n",
      "   macro avg       0.93      0.91      0.92        90\n",
      "weighted avg       0.92      0.92      0.92        90\n",
      "\n"
     ]
    },
    {
     "name": "stderr",
     "output_type": "stream",
     "text": [
      "train epoch:10/20: 100%|██████████| 26/26 [00:11<00:00,  2.20it/s]\n",
      "eval: 100%|██████████| 3/3 [00:00<00:00,  7.00it/s]\n"
     ]
    },
    {
     "name": "stdout",
     "output_type": "stream",
     "text": [
      "epoch 10, loss 0.0008, train acc 0.993, test acc 0.911, time: 12.256\n",
      "              precision    recall  f1-score   support\n",
      "\n",
      "           0       0.87      1.00      0.93        54\n",
      "           1       1.00      0.78      0.88        36\n",
      "\n",
      "    accuracy                           0.91        90\n",
      "   macro avg       0.94      0.89      0.90        90\n",
      "weighted avg       0.92      0.91      0.91        90\n",
      "\n"
     ]
    },
    {
     "name": "stderr",
     "output_type": "stream",
     "text": [
      "train epoch:11/20: 100%|██████████| 26/26 [00:11<00:00,  2.20it/s]\n",
      "eval: 100%|██████████| 3/3 [00:00<00:00,  6.94it/s]\n"
     ]
    },
    {
     "name": "stdout",
     "output_type": "stream",
     "text": [
      "epoch 11, loss 0.0004, train acc 0.995, test acc 0.922, time: 12.275\n",
      "              precision    recall  f1-score   support\n",
      "\n",
      "           0       0.93      0.94      0.94        54\n",
      "           1       0.91      0.89      0.90        36\n",
      "\n",
      "    accuracy                           0.92        90\n",
      "   macro avg       0.92      0.92      0.92        90\n",
      "weighted avg       0.92      0.92      0.92        90\n",
      "\n"
     ]
    },
    {
     "name": "stderr",
     "output_type": "stream",
     "text": [
      "train epoch:12/20: 100%|██████████| 26/26 [00:11<00:00,  2.21it/s]\n",
      "eval: 100%|██████████| 3/3 [00:00<00:00,  6.96it/s]\n"
     ]
    },
    {
     "name": "stdout",
     "output_type": "stream",
     "text": [
      "epoch 12, loss 0.0001, train acc 0.999, test acc 0.944, time: 12.222\n",
      "              precision    recall  f1-score   support\n",
      "\n",
      "           0       0.95      0.96      0.95        54\n",
      "           1       0.94      0.92      0.93        36\n",
      "\n",
      "    accuracy                           0.94        90\n",
      "   macro avg       0.94      0.94      0.94        90\n",
      "weighted avg       0.94      0.94      0.94        90\n",
      "\n"
     ]
    },
    {
     "name": "stderr",
     "output_type": "stream",
     "text": [
      "train epoch:13/20: 100%|██████████| 26/26 [00:11<00:00,  2.18it/s]\n",
      "eval: 100%|██████████| 3/3 [00:00<00:00,  7.00it/s]\n"
     ]
    },
    {
     "name": "stdout",
     "output_type": "stream",
     "text": [
      "epoch 13, loss 0.0000, train acc 1.000, test acc 0.944, time: 12.381\n",
      "              precision    recall  f1-score   support\n",
      "\n",
      "           0       0.95      0.96      0.95        54\n",
      "           1       0.94      0.92      0.93        36\n",
      "\n",
      "    accuracy                           0.94        90\n",
      "   macro avg       0.94      0.94      0.94        90\n",
      "weighted avg       0.94      0.94      0.94        90\n",
      "\n"
     ]
    },
    {
     "name": "stderr",
     "output_type": "stream",
     "text": [
      "train epoch:14/20: 100%|██████████| 26/26 [00:11<00:00,  2.18it/s]\n",
      "eval: 100%|██████████| 3/3 [00:00<00:00,  7.02it/s]\n"
     ]
    },
    {
     "name": "stdout",
     "output_type": "stream",
     "text": [
      "epoch 14, loss 0.0001, train acc 1.000, test acc 0.967, time: 12.335\n",
      "              precision    recall  f1-score   support\n",
      "\n",
      "           0       0.95      1.00      0.97        54\n",
      "           1       1.00      0.92      0.96        36\n",
      "\n",
      "    accuracy                           0.97        90\n",
      "   macro avg       0.97      0.96      0.96        90\n",
      "weighted avg       0.97      0.97      0.97        90\n",
      "\n"
     ]
    },
    {
     "name": "stderr",
     "output_type": "stream",
     "text": [
      "train epoch:15/20: 100%|██████████| 26/26 [00:11<00:00,  2.19it/s]\n",
      "eval: 100%|██████████| 3/3 [00:00<00:00,  6.83it/s]\n"
     ]
    },
    {
     "name": "stdout",
     "output_type": "stream",
     "text": [
      "epoch 15, loss 0.0010, train acc 0.993, test acc 0.967, time: 12.333\n",
      "              precision    recall  f1-score   support\n",
      "\n",
      "           0       0.95      1.00      0.97        54\n",
      "           1       1.00      0.92      0.96        36\n",
      "\n",
      "    accuracy                           0.97        90\n",
      "   macro avg       0.97      0.96      0.96        90\n",
      "weighted avg       0.97      0.97      0.97        90\n",
      "\n"
     ]
    },
    {
     "name": "stderr",
     "output_type": "stream",
     "text": [
      "train epoch:16/20: 100%|██████████| 26/26 [00:11<00:00,  2.18it/s]\n",
      "eval: 100%|██████████| 3/3 [00:00<00:00,  6.96it/s]\n"
     ]
    },
    {
     "name": "stdout",
     "output_type": "stream",
     "text": [
      "epoch 16, loss 0.0001, train acc 1.000, test acc 0.967, time: 12.374\n",
      "              precision    recall  f1-score   support\n",
      "\n",
      "           0       0.95      1.00      0.97        54\n",
      "           1       1.00      0.92      0.96        36\n",
      "\n",
      "    accuracy                           0.97        90\n",
      "   macro avg       0.97      0.96      0.96        90\n",
      "weighted avg       0.97      0.97      0.97        90\n",
      "\n"
     ]
    },
    {
     "name": "stderr",
     "output_type": "stream",
     "text": [
      "train epoch:17/20: 100%|██████████| 26/26 [00:11<00:00,  2.17it/s]\n",
      "eval: 100%|██████████| 3/3 [00:00<00:00,  6.98it/s]\n"
     ]
    },
    {
     "name": "stdout",
     "output_type": "stream",
     "text": [
      "epoch 17, loss 0.0000, train acc 1.000, test acc 0.967, time: 12.400\n",
      "              precision    recall  f1-score   support\n",
      "\n",
      "           0       0.95      1.00      0.97        54\n",
      "           1       1.00      0.92      0.96        36\n",
      "\n",
      "    accuracy                           0.97        90\n",
      "   macro avg       0.97      0.96      0.96        90\n",
      "weighted avg       0.97      0.97      0.97        90\n",
      "\n"
     ]
    },
    {
     "name": "stderr",
     "output_type": "stream",
     "text": [
      "train epoch:18/20: 100%|██████████| 26/26 [00:11<00:00,  2.17it/s]\n",
      "eval: 100%|██████████| 3/3 [00:00<00:00,  7.06it/s]\n"
     ]
    },
    {
     "name": "stdout",
     "output_type": "stream",
     "text": [
      "epoch 18, loss 0.0000, train acc 1.000, test acc 0.967, time: 12.433\n",
      "              precision    recall  f1-score   support\n",
      "\n",
      "           0       0.95      1.00      0.97        54\n",
      "           1       1.00      0.92      0.96        36\n",
      "\n",
      "    accuracy                           0.97        90\n",
      "   macro avg       0.97      0.96      0.96        90\n",
      "weighted avg       0.97      0.97      0.97        90\n",
      "\n"
     ]
    },
    {
     "name": "stderr",
     "output_type": "stream",
     "text": [
      "train epoch:19/20: 100%|██████████| 26/26 [00:12<00:00,  2.16it/s]\n",
      "eval: 100%|██████████| 3/3 [00:00<00:00,  7.10it/s]\n"
     ]
    },
    {
     "name": "stdout",
     "output_type": "stream",
     "text": [
      "epoch 19, loss 0.0000, train acc 1.000, test acc 0.967, time: 12.456\n",
      "              precision    recall  f1-score   support\n",
      "\n",
      "           0       0.95      1.00      0.97        54\n",
      "           1       1.00      0.92      0.96        36\n",
      "\n",
      "    accuracy                           0.97        90\n",
      "   macro avg       0.97      0.96      0.96        90\n",
      "weighted avg       0.97      0.97      0.97        90\n",
      "\n"
     ]
    },
    {
     "name": "stderr",
     "output_type": "stream",
     "text": [
      "train epoch:20/20: 100%|██████████| 26/26 [00:11<00:00,  2.18it/s]\n",
      "eval: 100%|██████████| 3/3 [00:00<00:00,  6.98it/s]\n"
     ]
    },
    {
     "name": "stdout",
     "output_type": "stream",
     "text": [
      "epoch 20, loss 0.0000, train acc 1.000, test acc 0.967, time: 12.373\n",
      "              precision    recall  f1-score   support\n",
      "\n",
      "           0       0.95      1.00      0.97        54\n",
      "           1       1.00      0.92      0.96        36\n",
      "\n",
      "    accuracy                           0.97        90\n",
      "   macro avg       0.97      0.96      0.96        90\n",
      "weighted avg       0.97      0.97      0.97        90\n",
      "\n"
     ]
    },
    {
     "name": "stderr",
     "output_type": "stream",
     "text": [
      "train epoch:21/20: 100%|██████████| 26/26 [00:12<00:00,  2.16it/s]\n",
      "eval: 100%|██████████| 3/3 [00:00<00:00,  7.08it/s]\n"
     ]
    },
    {
     "name": "stdout",
     "output_type": "stream",
     "text": [
      "epoch 21, loss 0.0000, train acc 1.000, test acc 0.967, time: 12.482\n",
      "              precision    recall  f1-score   support\n",
      "\n",
      "           0       0.95      1.00      0.97        54\n",
      "           1       1.00      0.92      0.96        36\n",
      "\n",
      "    accuracy                           0.97        90\n",
      "   macro avg       0.97      0.96      0.96        90\n",
      "weighted avg       0.97      0.97      0.97        90\n",
      "\n"
     ]
    },
    {
     "name": "stderr",
     "output_type": "stream",
     "text": [
      "train epoch:22/20: 100%|██████████| 26/26 [00:11<00:00,  2.18it/s]\n",
      "eval: 100%|██████████| 3/3 [00:00<00:00,  6.95it/s]\n"
     ]
    },
    {
     "name": "stdout",
     "output_type": "stream",
     "text": [
      "epoch 22, loss 0.0000, train acc 1.000, test acc 0.967, time: 12.379\n",
      "              precision    recall  f1-score   support\n",
      "\n",
      "           0       0.95      1.00      0.97        54\n",
      "           1       1.00      0.92      0.96        36\n",
      "\n",
      "    accuracy                           0.97        90\n",
      "   macro avg       0.97      0.96      0.96        90\n",
      "weighted avg       0.97      0.97      0.97        90\n",
      "\n"
     ]
    },
    {
     "name": "stderr",
     "output_type": "stream",
     "text": [
      "train epoch:23/20: 100%|██████████| 26/26 [00:12<00:00,  2.16it/s]\n",
      "eval: 100%|██████████| 3/3 [00:00<00:00,  7.01it/s]\n"
     ]
    },
    {
     "name": "stdout",
     "output_type": "stream",
     "text": [
      "epoch 23, loss 0.0000, train acc 1.000, test acc 0.967, time: 12.479\n",
      "              precision    recall  f1-score   support\n",
      "\n",
      "           0       0.95      1.00      0.97        54\n",
      "           1       1.00      0.92      0.96        36\n",
      "\n",
      "    accuracy                           0.97        90\n",
      "   macro avg       0.97      0.96      0.96        90\n",
      "weighted avg       0.97      0.97      0.97        90\n",
      "\n"
     ]
    },
    {
     "name": "stderr",
     "output_type": "stream",
     "text": [
      "train epoch:24/20: 100%|██████████| 26/26 [00:12<00:00,  2.15it/s]\n",
      "eval: 100%|██████████| 3/3 [00:00<00:00,  7.03it/s]\n"
     ]
    },
    {
     "name": "stdout",
     "output_type": "stream",
     "text": [
      "epoch 24, loss 0.0000, train acc 1.000, test acc 0.944, time: 12.533\n",
      "              precision    recall  f1-score   support\n",
      "\n",
      "           0       0.95      0.96      0.95        54\n",
      "           1       0.94      0.92      0.93        36\n",
      "\n",
      "    accuracy                           0.94        90\n",
      "   macro avg       0.94      0.94      0.94        90\n",
      "weighted avg       0.94      0.94      0.94        90\n",
      "\n"
     ]
    },
    {
     "name": "stderr",
     "output_type": "stream",
     "text": [
      "train epoch:25/20: 100%|██████████| 26/26 [00:12<00:00,  2.15it/s]\n",
      "eval: 100%|██████████| 3/3 [00:00<00:00,  7.09it/s]\n"
     ]
    },
    {
     "name": "stdout",
     "output_type": "stream",
     "text": [
      "epoch 25, loss 0.0000, train acc 1.000, test acc 0.944, time: 12.539\n",
      "              precision    recall  f1-score   support\n",
      "\n",
      "           0       0.95      0.96      0.95        54\n",
      "           1       0.94      0.92      0.93        36\n",
      "\n",
      "    accuracy                           0.94        90\n",
      "   macro avg       0.94      0.94      0.94        90\n",
      "weighted avg       0.94      0.94      0.94        90\n",
      "\n"
     ]
    },
    {
     "data": {
      "image/png": "[encoded data removed]",
      "text/plain": [
       "<Figure size 1200x500 with 2 Axes>"
      ]
     },
     "metadata": {},
     "output_type": "display_data"
    }
   ],
   "source": [
    "import time\n",
    "import math\n",
    "import pandas as pd\n",
    "import numpy as np\n",
    "import torch\n",
    "from torch import nn\n",
    "from tqdm import tqdm\n",
    "from sklearn.metrics import classification_report, accuracy_score\n",
    "from concurrent.futures import ThreadPoolExecutor\n",
    "from torch.utils.data import TensorDataset, DataLoader\n",
    "from transformers import BertTokenizer, BertPreTrainedModel, BertModel, AdamW, get_linear_schedule_with_warmup\n",
    "from sklearn.model_selection import train_test_split\n",
    "from sklearn.preprocessing import LabelEncoder\n",
    "import matplotlib.pyplot as plt\n",
    "from torch.nn import Dropout, Linear, CrossEntropyLoss\n",
    "\n",
    "class CustomBertForSequenceClassification(BertPreTrainedModel):\n",
    "    def __init__(self, config):\n",
    "        super().__init__(config)\n",
    "        self.num_labels = config.num_labels\n",
    "\n",
    "        self.bert = BertModel(config)\n",
    "        self.dropout = Dropout(0.5)  # 增加 Dropout 概率到0.5\n",
    "        self.classifier = Linear(config.hidden_size, config.num_labels)\n",
    "\n",
    "        self.init_weights()\n",
    "\n",
    "    def forward(self, input_ids, attention_mask=None, token_type_ids=None, position_ids=None, head_mask=None, inputs_embeds=None, labels=None):\n",
    "        outputs = self.bert(\n",
    "            input_ids,\n",
    "            attention_mask=attention_mask,\n",
    "            token_type_ids=token_type_ids,\n",
    "            position_ids=position_ids,\n",
    "            head_mask=head_mask,\n",
    "            inputs_embeds=inputs_embeds,\n",
    "        )\n",
    "\n",
    "        pooled_output = outputs[1]\n",
    "\n",
    "        pooled_output = self.dropout(pooled_output)\n",
    "        logits = self.classifier(pooled_output)\n",
    "\n",
    "        outputs = (logits,) + outputs[2:]\n",
    "\n",
    "        if labels is not None:\n",
    "            loss_fct = CrossEntropyLoss()\n",
    "            loss = loss_fct(logits.view(-1, self.num_labels), labels.view(-1))\n",
    "            outputs = (loss,) + outputs\n",
    "\n",
    "        return outputs\n",
    "\n",
    "class DataProcessForSingleSentence(object):\n",
    "    def __init__(self, bert_tokenizer, max_workers=10):\n",
    "        self.bert_tokenizer = bert_tokenizer\n",
    "        self.pool = ThreadPoolExecutor(max_workers=max_workers)\n",
    "\n",
    "    def get_input(self, dataset, max_seq_len=30):\n",
    "        sentences = dataset.iloc[:, 0].tolist()\n",
    "        labels = dataset.iloc[:, 1].tolist()\n",
    "        labels = LabelEncoder().fit_transform(labels)  # 將標籤轉換為數值\n",
    "        token_seq = list(self.pool.map(self.bert_tokenizer.tokenize, sentences))\n",
    "        result = list(self.pool.map(self.trunate_and_pad, token_seq, [max_seq_len] * len(token_seq)))\n",
    "        seqs = [i[0] for i in result]\n",
    "        seq_masks = [i[1] for i in result]\n",
    "        seq_segments = [i[2] for i in result]\n",
    "\n",
    "        t_seqs = torch.tensor(seqs, dtype=torch.long)\n",
    "        t_seq_masks = torch.tensor(seq_masks, dtype=torch.long)\n",
    "        t_seq_segments = torch.tensor(seq_segments, dtype=torch.long)\n",
    "        t_labels = torch.tensor(labels, dtype=torch.long)\n",
    "\n",
    "        return TensorDataset(t_seqs, t_seq_masks, t_seq_segments, t_labels)\n",
    "\n",
    "    def trunate_and_pad(self, seq, max_seq_len):\n",
    "        if len(seq) > (max_seq_len - 2):\n",
    "            seq = seq[0: (max_seq_len - 2)]\n",
    "        seq = ['[CLS]'] + seq + ['[SEP]']\n",
    "        seq = self.bert_tokenizer.convert_tokens_to_ids(seq)\n",
    "        padding = [0] * (max_seq_len - len(seq))\n",
    "        seq_mask = [1] * len(seq) + padding\n",
    "        seq_segment = [0] * len(seq) + padding\n",
    "        seq += padding\n",
    "        assert len(seq) == max_seq_len\n",
    "        assert len(seq_mask) == max_seq_len\n",
    "        assert len(seq_segment) == max_seq_len\n",
    "        return seq, seq_mask, seq_segment\n",
    "\n",
    "def load_data(train_filepath, test_filepath, pretrained_model_name_or_path, max_seq_len, batch_size):\n",
    "    raw_train_data = pd.read_excel(train_filepath, sheet_name='train')\n",
    "    raw_test_data = pd.read_excel(test_filepath, sheet_name='test')\n",
    "    bert_tokenizer = BertTokenizer.from_pretrained(pretrained_model_name_or_path, do_lower_case=True)\n",
    "    processor = DataProcessForSingleSentence(bert_tokenizer=bert_tokenizer)\n",
    "    train_data = processor.get_input(raw_train_data, max_seq_len)\n",
    "    test_data = processor.get_input(raw_test_data, max_seq_len)\n",
    "\n",
    "    train_iter = DataLoader(dataset=train_data, batch_size=batch_size, shuffle=True)\n",
    "    test_iter = DataLoader(dataset=test_data, batch_size=batch_size, shuffle=True)\n",
    "    total_train_batch = math.ceil(len(raw_train_data) / batch_size)\n",
    "    total_test_batch = math.ceil(len(raw_test_data) / batch_size)\n",
    "    return train_iter, test_iter, total_train_batch, total_test_batch\n",
    "\n",
    "def evaluate_accuracy(data_iter, net, device, batch_count):\n",
    "    prediction_labels, true_labels = [], []\n",
    "    with torch.no_grad():\n",
    "        for batch_data in tqdm(data_iter, desc='eval', total=batch_count):\n",
    "            batch_data = tuple(t.to(device) for t in batch_data)\n",
    "            labels = batch_data[-1]\n",
    "            outputs = net(*batch_data[:-1])\n",
    "            logits = outputs[0]\n",
    "            predictions = logits.softmax(dim=1).argmax(dim=1)\n",
    "            prediction_labels.append(predictions.detach().cpu().numpy())\n",
    "            true_labels.append(labels.detach().cpu().numpy())\n",
    "    return classification_report(np.concatenate(true_labels), np.concatenate(prediction_labels), zero_division=0), accuracy_score(np.concatenate(true_labels), np.concatenate(prediction_labels))\n",
    "\n",
    "def main():\n",
    "    # 讀取資料並進行切割\n",
    "    file_path = './data.xlsx'\n",
    "    data = pd.read_excel(file_path)\n",
    "    train_data, test_data = train_test_split(data, test_size=0.1, random_state=42)\n",
    "    \n",
    "    # 存儲切割後的資料到本地\n",
    "    train_data_path = './train_data.xlsx'\n",
    "    test_data_path = './test_data.xlsx'\n",
    "    \n",
    "    with pd.ExcelWriter(train_data_path) as writer:\n",
    "        train_data.to_excel(writer, sheet_name='train', index=False)\n",
    "    with pd.ExcelWriter(test_data_path) as writer:\n",
    "        test_data.to_excel(writer, sheet_name='test', index=False)\n",
    "\n",
    "    # 訓練和測試模型\n",
    "    batch_size, max_seq_len = 32, 200\n",
    "    pretrained_model_name_or_path = 'bert-base-uncased'\n",
    "    train_iter, test_iter, train_batch_count, test_batch_count = load_data(train_data_path, test_data_path, pretrained_model_name_or_path, max_seq_len, batch_size)\n",
    "    \n",
    "    model = CustomBertForSequenceClassification.from_pretrained(pretrained_model_name_or_path, num_labels=2)\n",
    "    tokenizer = BertTokenizer.from_pretrained(pretrained_model_name_or_path)  # 確保 tokenizer 定義在這裡\n",
    "    optimizer = AdamW(model.parameters(), lr=5e-05, weight_decay=0.01)  # 增加权重衰减\n",
    "    device = torch.device('cuda' if torch.cuda.is_available() else 'cpu')\n",
    "    model.to(device)\n",
    "    loss_func = nn.CrossEntropyLoss()\n",
    "\n",
    "    train_losses = []\n",
    "    test_accuracies = []\n",
    "\n",
    "    total_steps = len(train_iter) * 50  # 50个epoch的总步数\n",
    "    scheduler = get_linear_schedule_with_warmup(optimizer, num_warmup_steps=0, num_training_steps=total_steps)  # 学习率调度器\n",
    "\n",
    "    for epoch in range(25):  # 将epoch减少为20次\n",
    "        start = time.time()\n",
    "        model.train()\n",
    "        train_loss_sum, train_acc_sum, n = 0.0, 0.0, 0\n",
    "        for step, batch_data in tqdm(enumerate(train_iter), desc='train epoch:{}/{}'.format(epoch + 1, 20), total=train_batch_count):\n",
    "            batch_data = tuple(t.to(device) for t in batch_data)\n",
    "            batch_seqs, batch_seq_masks, batch_seq_segments, batch_labels = batch_data\n",
    "            outputs = model(batch_seqs, batch_seq_masks, batch_seq_segments)\n",
    "            logits = outputs[0]\n",
    "            loss = loss_func(logits, batch_labels)\n",
    "            loss.backward()\n",
    "            train_loss_sum += loss.item()\n",
    "            logits = logits.softmax(dim=1)\n",
    "            train_acc_sum += (logits.argmax(dim=1) == batch_labels).sum().item()\n",
    "            n += batch_labels.shape[0]\n",
    "            optimizer.step()\n",
    "            scheduler.step()  # 更新学习率\n",
    "            optimizer.zero_grad()\n",
    "        train_losses.append(train_loss_sum / n)\n",
    "        model.eval()\n",
    "        classification_report, test_accuracy = evaluate_accuracy(test_iter, model, device, test_batch_count)\n",
    "        test_accuracies.append(test_accuracy)\n",
    "        print('epoch %d, loss %.4f, train acc %.3f, test acc %.3f, time: %.3f' %\n",
    "              (epoch + 1, train_loss_sum / n, train_acc_sum / n, test_accuracy, (time.time() - start)))\n",
    "        print(classification_report)\n",
    "\n",
    "    # 保存模型\n",
    "    model.save_pretrained('./fine_tuned_english_bert')\n",
    "    tokenizer.save_pretrained('./fine_tuned_english_bert')\n",
    "\n",
    "    # 畫出訓練損失和測試準確度\n",
    "    epochs = range(1, 26)\n",
    "    plt.figure(figsize=(12, 5))\n",
    "    plt.subplot(1, 2, 1)\n",
    "    plt.plot(epochs, train_losses, 'b', label='Training loss')\n",
    "    plt.title('Training loss')\n",
    "    plt.xlabel('Epochs')\n",
    "    plt.ylabel('Loss')\n",
    "    plt.legend()\n",
    "    plt.subplot(1, 2, 2)\n",
    "    plt.plot(epochs, test_accuracies, 'b', label='Testing accuracy')\n",
    "    plt.title('Testing accuracy')\n",
    "    plt.xlabel('Epochs')\n",
    "    plt.ylabel('Accuracy')\n",
    "    plt.legend()\n",
    "    plt.tight_layout()\n",
    "    plt.show()\n",
    "\n",
    "if __name__ == '__main__':\n",
    "    main()"
   ]
  }
 ],
 "metadata": {
  "kernelspec": {
   "display_name": "ryan",
   "language": "python",
   "name": "python3"
  },
  "language_info": {
   "codemirror_mode": {
    "name": "ipython",
    "version": 3
   },
   "file_extension": ".py",
   "mimetype": "text/x-python",
   "name": "python",
   "nbconvert_exporter": "python",
   "pygments_lexer": "ipython3",
   "version": "3.9.19"
  }
 },
 "nbformat": 4,
 "nbformat_minor": 2
}
